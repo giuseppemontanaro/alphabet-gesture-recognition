{
  "nbformat": 4,
  "nbformat_minor": 0,
  "metadata": {
    "colab": {
      "name": "Untitled1.ipynb",
      "provenance": [],
      "authorship_tag": "ABX9TyP38H3FYHbup+P3dY4mlIC5",
      "include_colab_link": true
    },
    "kernelspec": {
      "name": "python3",
      "display_name": "Python 3"
    },
    "language_info": {
      "name": "python"
    },
    "accelerator": "GPU"
  },
  "cells": [
    {
      "cell_type": "markdown",
      "metadata": {
        "id": "view-in-github",
        "colab_type": "text"
      },
      "source": [
        "<a href=\"https://colab.research.google.com/github/giuseppemontanaro/alphabet-gesture-recognition/blob/main/gesture_classifier.ipynb\" target=\"_parent\"><img src=\"https://colab.research.google.com/assets/colab-badge.svg\" alt=\"Open In Colab\"/></a>"
      ]
    },
    {
      "cell_type": "code",
      "metadata": {
        "id": "HimdXGrHAEha"
      },
      "source": [
        "from keras.models import Sequential\n",
        "\n",
        "from keras.layers import Dense, Dropout\n",
        "from keras.layers.normalization import BatchNormalization"
      ],
      "execution_count": 13,
      "outputs": []
    },
    {
      "cell_type": "code",
      "metadata": {
        "id": "EEVqxN_4DjnC"
      },
      "source": [
        "landmark_pos_dim = 2\n",
        "landmark_num = 21\n",
        "frames = 24\n",
        "\n",
        "INPUT_SIZE = landmark_pos_dim * landmark_num * frames\n",
        "OUTPUT_SIZE = 2"
      ],
      "execution_count": 9,
      "outputs": []
    },
    {
      "cell_type": "code",
      "metadata": {
        "id": "uONjuRrsGhr7"
      },
      "source": [
        "model = Sequential()\n",
        "model.add(Dense(INPUT_SIZE, activation='relu'))\n",
        "\n",
        "model.add(Dense(1024, activation='relu'))\n",
        "model.add(Dropout(0.25))\n",
        "\n",
        "model.add(Dense(128, activation='relu'))\n",
        "model.add(Dropout(0.25))\n",
        "\n",
        "model.add(Dense(128, activation='relu'))\n",
        "model.add(Dropout(0.25))\n",
        "\n",
        "model.add(Dense(OUTPUT_SIZE, activation='softmax'))"
      ],
      "execution_count": null,
      "outputs": []
    }
  ]
}